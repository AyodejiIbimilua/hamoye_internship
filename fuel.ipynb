{
 "cells": [
  {
   "cell_type": "code",
   "execution_count": 3,
   "metadata": {},
   "outputs": [],
   "source": [
    "#import needed libraries\n",
    "import numpy as np\n",
    "import pandas as pd\n",
    "import matplotlib.pyplot as plt\n",
    "\n",
    "\n",
    "# Don't wrap repr(DataFrame) across additional lines\n",
    "pd.set_option(\"display.expand_frame_repr\", False)\n",
    "\n",
    "# Set max rows displayed in output to 25\n",
    "pd.set_option(\"display.max_rows\", 25)"
   ]
  },
  {
   "cell_type": "code",
   "execution_count": 6,
   "metadata": {
    "tags": []
   },
   "outputs": [
    {
     "output_type": "stream",
     "name": "stdout",
     "text": "[1, 2, 3, 4, 5, 6, 13, 21, 34]\n"
    }
   ],
   "source": [
    "#question1\n",
    "\n",
    "#extends a list\n",
    "A = [1,2,3,4,5,6]\n",
    "B = [13,21,34]\n",
    "A.extend(B)\n",
    "A_B = A\n",
    "print(A_B)"
   ]
  },
  {
   "cell_type": "code",
   "execution_count": 38,
   "metadata": {
    "tags": []
   },
   "outputs": [
    {
     "output_type": "stream",
     "name": "stdout",
     "text": "[[1 0 0]\n [0 1 0]\n [0 0 1]]\n[[1. 0. 0.]\n [0. 1. 0.]\n [0. 0. 1.]]\n"
    }
   ],
   "source": [
    "#question2\n",
    "\n",
    "#to create an identity matrix\n",
    "print(np.array([[1,0,0],[0,1,0], [0,0,1]]))\n",
    "print(np.identity(3))"
   ]
  },
  {
   "cell_type": "code",
   "execution_count": 9,
   "metadata": {},
   "outputs": [
    {
     "output_type": "execute_result",
     "data": {
      "text/plain": "          Unnamed: 0                record_id  utility_id_ferc1   report_year plant_name_ferc1 fuel_type_code_pudl fuel_unit  fuel_qty_burned  fuel_mmbtu_per_unit  fuel_cost_per_unit_burned  fuel_cost_per_unit_delivered  fuel_cost_per_mmbtu\ncount   29523.000000                    29523      29523.000000  29523.000000            29523               29523     29343     2.952300e+04         29523.000000               29523.000000                  2.952300e+04         29523.000000\nunique           NaN                    29523               NaN           NaN             2315                   6         9              NaN                  NaN                        NaN                           NaN                  NaN\ntop              NaN  f1_fuel_2010_12_127_0_5               NaN           NaN        big stone                 gas       mcf              NaN                  NaN                        NaN                           NaN                  NaN\nfreq             NaN                        1               NaN           NaN              156               11486     11354              NaN                  NaN                        NaN                           NaN                  NaN\nmean    14761.000000                      NaN        118.601836   2005.806050              NaN                 NaN       NaN     2.622119e+06             8.492111                 208.649031                  9.175704e+02            19.304354\nstd      8522.700335                      NaN         74.178353      7.025483              NaN                 NaN       NaN     9.118004e+06            10.600220                2854.490090                  6.877593e+04          2091.540939\nmin         0.000000                      NaN          1.000000   1994.000000              NaN                 NaN       NaN     1.000000e+00             0.000001                -276.080000                 -8.749370e+02           -41.501000\n25%      7380.500000                      NaN         55.000000   2000.000000              NaN                 NaN       NaN     1.381700e+04             1.024000                   5.207000                  3.778500e+00             1.940000\n50%     14761.000000                      NaN        122.000000   2006.000000              NaN                 NaN       NaN     2.533220e+05             5.762694                  26.000000                  1.737100e+01             4.127000\n75%     22141.500000                      NaN        176.000000   2012.000000              NaN                 NaN       NaN     1.424034e+06            17.006000                  47.113000                  4.213700e+01             7.745000\nmax     29522.000000                      NaN        514.000000   2018.000000              NaN                 NaN       NaN     5.558942e+08           341.260000              139358.000000                  7.964521e+06        359278.000000",
      "text/html": "<div>\n<style scoped>\n    .dataframe tbody tr th:only-of-type {\n        vertical-align: middle;\n    }\n\n    .dataframe tbody tr th {\n        vertical-align: top;\n    }\n\n    .dataframe thead th {\n        text-align: right;\n    }\n</style>\n<table border=\"1\" class=\"dataframe\">\n  <thead>\n    <tr style=\"text-align: right;\">\n      <th></th>\n      <th>Unnamed: 0</th>\n      <th>record_id</th>\n      <th>utility_id_ferc1</th>\n      <th>report_year</th>\n      <th>plant_name_ferc1</th>\n      <th>fuel_type_code_pudl</th>\n      <th>fuel_unit</th>\n      <th>fuel_qty_burned</th>\n      <th>fuel_mmbtu_per_unit</th>\n      <th>fuel_cost_per_unit_burned</th>\n      <th>fuel_cost_per_unit_delivered</th>\n      <th>fuel_cost_per_mmbtu</th>\n    </tr>\n  </thead>\n  <tbody>\n    <tr>\n      <th>count</th>\n      <td>29523.000000</td>\n      <td>29523</td>\n      <td>29523.000000</td>\n      <td>29523.000000</td>\n      <td>29523</td>\n      <td>29523</td>\n      <td>29343</td>\n      <td>2.952300e+04</td>\n      <td>29523.000000</td>\n      <td>29523.000000</td>\n      <td>2.952300e+04</td>\n      <td>29523.000000</td>\n    </tr>\n    <tr>\n      <th>unique</th>\n      <td>NaN</td>\n      <td>29523</td>\n      <td>NaN</td>\n      <td>NaN</td>\n      <td>2315</td>\n      <td>6</td>\n      <td>9</td>\n      <td>NaN</td>\n      <td>NaN</td>\n      <td>NaN</td>\n      <td>NaN</td>\n      <td>NaN</td>\n    </tr>\n    <tr>\n      <th>top</th>\n      <td>NaN</td>\n      <td>f1_fuel_2010_12_127_0_5</td>\n      <td>NaN</td>\n      <td>NaN</td>\n      <td>big stone</td>\n      <td>gas</td>\n      <td>mcf</td>\n      <td>NaN</td>\n      <td>NaN</td>\n      <td>NaN</td>\n      <td>NaN</td>\n      <td>NaN</td>\n    </tr>\n    <tr>\n      <th>freq</th>\n      <td>NaN</td>\n      <td>1</td>\n      <td>NaN</td>\n      <td>NaN</td>\n      <td>156</td>\n      <td>11486</td>\n      <td>11354</td>\n      <td>NaN</td>\n      <td>NaN</td>\n      <td>NaN</td>\n      <td>NaN</td>\n      <td>NaN</td>\n    </tr>\n    <tr>\n      <th>mean</th>\n      <td>14761.000000</td>\n      <td>NaN</td>\n      <td>118.601836</td>\n      <td>2005.806050</td>\n      <td>NaN</td>\n      <td>NaN</td>\n      <td>NaN</td>\n      <td>2.622119e+06</td>\n      <td>8.492111</td>\n      <td>208.649031</td>\n      <td>9.175704e+02</td>\n      <td>19.304354</td>\n    </tr>\n    <tr>\n      <th>std</th>\n      <td>8522.700335</td>\n      <td>NaN</td>\n      <td>74.178353</td>\n      <td>7.025483</td>\n      <td>NaN</td>\n      <td>NaN</td>\n      <td>NaN</td>\n      <td>9.118004e+06</td>\n      <td>10.600220</td>\n      <td>2854.490090</td>\n      <td>6.877593e+04</td>\n      <td>2091.540939</td>\n    </tr>\n    <tr>\n      <th>min</th>\n      <td>0.000000</td>\n      <td>NaN</td>\n      <td>1.000000</td>\n      <td>1994.000000</td>\n      <td>NaN</td>\n      <td>NaN</td>\n      <td>NaN</td>\n      <td>1.000000e+00</td>\n      <td>0.000001</td>\n      <td>-276.080000</td>\n      <td>-8.749370e+02</td>\n      <td>-41.501000</td>\n    </tr>\n    <tr>\n      <th>25%</th>\n      <td>7380.500000</td>\n      <td>NaN</td>\n      <td>55.000000</td>\n      <td>2000.000000</td>\n      <td>NaN</td>\n      <td>NaN</td>\n      <td>NaN</td>\n      <td>1.381700e+04</td>\n      <td>1.024000</td>\n      <td>5.207000</td>\n      <td>3.778500e+00</td>\n      <td>1.940000</td>\n    </tr>\n    <tr>\n      <th>50%</th>\n      <td>14761.000000</td>\n      <td>NaN</td>\n      <td>122.000000</td>\n      <td>2006.000000</td>\n      <td>NaN</td>\n      <td>NaN</td>\n      <td>NaN</td>\n      <td>2.533220e+05</td>\n      <td>5.762694</td>\n      <td>26.000000</td>\n      <td>1.737100e+01</td>\n      <td>4.127000</td>\n    </tr>\n    <tr>\n      <th>75%</th>\n      <td>22141.500000</td>\n      <td>NaN</td>\n      <td>176.000000</td>\n      <td>2012.000000</td>\n      <td>NaN</td>\n      <td>NaN</td>\n      <td>NaN</td>\n      <td>1.424034e+06</td>\n      <td>17.006000</td>\n      <td>47.113000</td>\n      <td>4.213700e+01</td>\n      <td>7.745000</td>\n    </tr>\n    <tr>\n      <th>max</th>\n      <td>29522.000000</td>\n      <td>NaN</td>\n      <td>514.000000</td>\n      <td>2018.000000</td>\n      <td>NaN</td>\n      <td>NaN</td>\n      <td>NaN</td>\n      <td>5.558942e+08</td>\n      <td>341.260000</td>\n      <td>139358.000000</td>\n      <td>7.964521e+06</td>\n      <td>359278.000000</td>\n    </tr>\n  </tbody>\n</table>\n</div>"
     },
     "metadata": {},
     "execution_count": 9
    }
   ],
   "source": [
    "#loads the dataset from the link\n",
    "url = \"https://raw.githubusercontent.com/WalePhenomenon/climate_change/master/fuel_ferc1.csv\"\n",
    "fuel_data = pd.read_csv(\"fuel_data.csv\", error_bad_lines=False)\n",
    "\n",
    "\n",
    "#gives information about the dataset\n",
    "fuel_data.describe(include=\"all\")"
   ]
  },
  {
   "cell_type": "code",
   "execution_count": 10,
   "metadata": {},
   "outputs": [],
   "source": [
    "#saves the dataframe to a csv file\n",
    "fuel_data.to_csv(\"fuel_data.csv\")"
   ]
  },
  {
   "cell_type": "code",
   "execution_count": 11,
   "metadata": {},
   "outputs": [
    {
     "output_type": "execute_result",
     "data": {
      "text/plain": "   Unnamed: 0               record_id  utility_id_ferc1  report_year      plant_name_ferc1 fuel_type_code_pudl fuel_unit  fuel_qty_burned  fuel_mmbtu_per_unit  fuel_cost_per_unit_burned  fuel_cost_per_unit_delivered  fuel_cost_per_mmbtu\n0           0   f1_fuel_1994_12_1_0_7                 1         1994              rockport                coal       ton        5377489.0               16.590                      18.59                         18.53                1.121\n1           1  f1_fuel_1994_12_1_0_10                 1         1994  rockport total plant                coal       ton       10486945.0               16.592                      18.58                         18.53                1.120\n2           2   f1_fuel_1994_12_2_0_1                 2         1994                gorgas                coal       ton        2978683.0               24.130                      39.72                         38.12                1.650\n3           3   f1_fuel_1994_12_2_0_7                 2         1994                 barry                coal       ton        3739484.0               23.950                      47.21                         45.99                1.970\n4           4  f1_fuel_1994_12_2_0_10                 2         1994             chickasaw                 gas       mcf          40533.0                1.000                       2.77                          2.77                2.570",
      "text/html": "<div>\n<style scoped>\n    .dataframe tbody tr th:only-of-type {\n        vertical-align: middle;\n    }\n\n    .dataframe tbody tr th {\n        vertical-align: top;\n    }\n\n    .dataframe thead th {\n        text-align: right;\n    }\n</style>\n<table border=\"1\" class=\"dataframe\">\n  <thead>\n    <tr style=\"text-align: right;\">\n      <th></th>\n      <th>Unnamed: 0</th>\n      <th>record_id</th>\n      <th>utility_id_ferc1</th>\n      <th>report_year</th>\n      <th>plant_name_ferc1</th>\n      <th>fuel_type_code_pudl</th>\n      <th>fuel_unit</th>\n      <th>fuel_qty_burned</th>\n      <th>fuel_mmbtu_per_unit</th>\n      <th>fuel_cost_per_unit_burned</th>\n      <th>fuel_cost_per_unit_delivered</th>\n      <th>fuel_cost_per_mmbtu</th>\n    </tr>\n  </thead>\n  <tbody>\n    <tr>\n      <th>0</th>\n      <td>0</td>\n      <td>f1_fuel_1994_12_1_0_7</td>\n      <td>1</td>\n      <td>1994</td>\n      <td>rockport</td>\n      <td>coal</td>\n      <td>ton</td>\n      <td>5377489.0</td>\n      <td>16.590</td>\n      <td>18.59</td>\n      <td>18.53</td>\n      <td>1.121</td>\n    </tr>\n    <tr>\n      <th>1</th>\n      <td>1</td>\n      <td>f1_fuel_1994_12_1_0_10</td>\n      <td>1</td>\n      <td>1994</td>\n      <td>rockport total plant</td>\n      <td>coal</td>\n      <td>ton</td>\n      <td>10486945.0</td>\n      <td>16.592</td>\n      <td>18.58</td>\n      <td>18.53</td>\n      <td>1.120</td>\n    </tr>\n    <tr>\n      <th>2</th>\n      <td>2</td>\n      <td>f1_fuel_1994_12_2_0_1</td>\n      <td>2</td>\n      <td>1994</td>\n      <td>gorgas</td>\n      <td>coal</td>\n      <td>ton</td>\n      <td>2978683.0</td>\n      <td>24.130</td>\n      <td>39.72</td>\n      <td>38.12</td>\n      <td>1.650</td>\n    </tr>\n    <tr>\n      <th>3</th>\n      <td>3</td>\n      <td>f1_fuel_1994_12_2_0_7</td>\n      <td>2</td>\n      <td>1994</td>\n      <td>barry</td>\n      <td>coal</td>\n      <td>ton</td>\n      <td>3739484.0</td>\n      <td>23.950</td>\n      <td>47.21</td>\n      <td>45.99</td>\n      <td>1.970</td>\n    </tr>\n    <tr>\n      <th>4</th>\n      <td>4</td>\n      <td>f1_fuel_1994_12_2_0_10</td>\n      <td>2</td>\n      <td>1994</td>\n      <td>chickasaw</td>\n      <td>gas</td>\n      <td>mcf</td>\n      <td>40533.0</td>\n      <td>1.000</td>\n      <td>2.77</td>\n      <td>2.77</td>\n      <td>2.570</td>\n    </tr>\n  </tbody>\n</table>\n</div>"
     },
     "metadata": {},
     "execution_count": 11
    }
   ],
   "source": [
    "#prints out the first five rows\n",
    "fuel_data.head()"
   ]
  },
  {
   "cell_type": "code",
   "execution_count": 12,
   "metadata": {},
   "outputs": [
    {
     "output_type": "execute_result",
     "data": {
      "text/plain": "Index(['record_id', 'utility_id_ferc1', 'report_year', 'plant_name_ferc1',\n       'fuel_type_code_pudl', 'fuel_unit', 'fuel_qty_burned',\n       'fuel_mmbtu_per_unit', 'fuel_cost_per_unit_burned',\n       'fuel_cost_per_unit_delivered', 'fuel_cost_per_mmbtu'],\n      dtype='object')"
     },
     "metadata": {},
     "execution_count": 12
    }
   ],
   "source": [
    "#drops the Unamed: 0 axis\n",
    "fuel_data.drop(\"Unnamed: 0\", axis=1, inplace=True)\n"
   ]
  },
  {
   "cell_type": "code",
   "execution_count": 13,
   "metadata": {},
   "outputs": [
    {
     "output_type": "execute_result",
     "data": {
      "text/plain": "record_id                         0\nutility_id_ferc1                  0\nreport_year                       0\nplant_name_ferc1                  0\nfuel_type_code_pudl               0\nfuel_unit                       180\nfuel_qty_burned                   0\nfuel_mmbtu_per_unit               0\nfuel_cost_per_unit_burned         0\nfuel_cost_per_unit_delivered      0\nfuel_cost_per_mmbtu               0\ndtype: int64"
     },
     "metadata": {},
     "execution_count": 13
    }
   ],
   "source": [
    "#checks for missng rows\n",
    "fuel_data.isnull().sum()"
   ]
  },
  {
   "cell_type": "code",
   "execution_count": 41,
   "metadata": {},
   "outputs": [
    {
     "output_type": "execute_result",
     "data": {
      "text/plain": "fuel_type_code_pudl\ncoal         67.421830\ngas          13.659397\nnuclear    4955.157002\noil         168.877086\nother        18.253856\nwaste        19.518122\nName: fuel_cost_per_unit_burned, dtype: float64"
     },
     "metadata": {},
     "execution_count": 41
    }
   ],
   "source": [
    "#question3\n",
    "\n",
    "#checks for mean of fuel cost per unit burned\n",
    "fuel_data.groupby(\"fuel_type_code_pudl\")[\"fuel_cost_per_unit_burned\"].mean()"
   ]
  },
  {
   "cell_type": "code",
   "execution_count": 18,
   "metadata": {
    "tags": []
   },
   "outputs": [
    {
     "output_type": "stream",
     "name": "stdout",
     "text": "10.600040781504145\n17.006\n"
    }
   ],
   "source": [
    "#question4\n",
    "standard_dev = np.std(fuel_data[\"fuel_mmbtu_per_unit\"])\n",
    "print(standard_dev)\n",
    "percentile_75 = np.percentile(fuel_data[\"fuel_mmbtu_per_unit\"], 75)\n",
    "print(percentile_75)"
   ]
  },
  {
   "cell_type": "code",
   "execution_count": 20,
   "metadata": {
    "tags": []
   },
   "outputs": [
    {
     "output_type": "stream",
     "name": "stdout",
     "text": "15.850690077422112\n651.2589365474387\n"
    }
   ],
   "source": [
    "#question5\n",
    "\n",
    "import numpy as np\n",
    "from scipy.stats import kurtosis\n",
    "from scipy.stats import skew\n",
    "skewness = skew(fuel_data[\"fuel_qty_burned\"])\n",
    "print(skewness)\n",
    "kurt = kurtosis(fuel_data[\"fuel_qty_burned\"])\n",
    "print(kurt)"
   ]
  },
  {
   "cell_type": "code",
   "execution_count": 24,
   "metadata": {},
   "outputs": [
    {
     "output_type": "execute_result",
     "data": {
      "text/plain": "0.609694136774718"
     },
     "metadata": {},
     "execution_count": 24
    }
   ],
   "source": [
    "#question6\n",
    "\n",
    "(180 / len(fuel_data)) * 100"
   ]
  },
  {
   "cell_type": "code",
   "execution_count": 31,
   "metadata": {},
   "outputs": [
    {
     "output_type": "execute_result",
     "data": {
      "text/plain": "utility_id_ferc1               -0.037863\nreport_year                     0.013599\nfuel_qty_burned                -0.018535\nfuel_mmbtu_per_unit            -0.010034\nfuel_cost_per_unit_burned       1.000000\nfuel_cost_per_unit_delivered    0.011007\nfuel_cost_per_mmbtu            -0.000437\nName: fuel_cost_per_unit_burned, dtype: float64"
     },
     "metadata": {},
     "execution_count": 31
    }
   ],
   "source": [
    "#question7\n",
    "\n",
    "#calculates the correlation for fuel cost per unit burned\n",
    "fuel_data.corr()[\"fuel_cost_per_unit_burned\"]"
   ]
  },
  {
   "cell_type": "code",
   "execution_count": 32,
   "metadata": {},
   "outputs": [
    {
     "output_type": "execute_result",
     "data": {
      "text/plain": "report_year\n1994       63.636060\n1995       32.735269\n1996     9196.705948\n1997    11140.197239\n1998      287.154420\n1999       25.551627\n2000      985.362877\n2001       60.050396\n2002       47.594361\n2003       55.663493\n2004      139.524275\n2005       41.438184\n2006       38.657484\n2007       43.325023\n2008       58.588197\n2009      652.694163\n2010       91.862105\n2011       59.774667\n2012       60.994502\n2013      172.307591\n2014      192.737183\n2015      326.535511\n2016      103.901761\n2017       46.196861\n2018      499.269966\nName: fuel_cost_per_unit_delivered, dtype: float64"
     },
     "metadata": {},
     "execution_count": 32
    }
   ],
   "source": [
    "#question10\n",
    "#calculates the year with the highest fuel cost per unit delivered\n",
    "\n",
    "fuel_data.groupby(\"report_year\")[\"fuel_cost_per_unit_delivered\"].mean()"
   ]
  }
 ],
 "metadata": {
  "language_info": {
   "codemirror_mode": {
    "name": "ipython",
    "version": 3
   },
   "file_extension": ".py",
   "mimetype": "text/x-python",
   "name": "python",
   "nbconvert_exporter": "python",
   "pygments_lexer": "ipython3",
   "version": 3
  },
  "orig_nbformat": 2,
  "kernelspec": {
   "name": "python_defaultSpec_1595241199267",
   "display_name": "Python 3.6.10 64-bit"
  }
 },
 "nbformat": 4,
 "nbformat_minor": 2
}